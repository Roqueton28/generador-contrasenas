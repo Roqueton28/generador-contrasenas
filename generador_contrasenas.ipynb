{
  "nbformat": 4,
  "nbformat_minor": 0,
  "metadata": {
    "colab": {
      "provenance": [],
      "authorship_tag": "ABX9TyMFxXJ4zM/sHA22/mkIiHZy",
      "include_colab_link": true
    },
    "kernelspec": {
      "name": "python3",
      "display_name": "Python 3"
    },
    "language_info": {
      "name": "python"
    }
  },
  "cells": [
    {
      "cell_type": "markdown",
      "metadata": {
        "id": "view-in-github",
        "colab_type": "text"
      },
      "source": [
        "<a href=\"https://colab.research.google.com/github/Roqueton28/generador-contrasenas/blob/main/generador_contrasenas.ipynb\" target=\"_parent\"><img src=\"https://colab.research.google.com/assets/colab-badge.svg\" alt=\"Open In Colab\"/></a>"
      ]
    },
    {
      "cell_type": "code",
      "source": [
        "#generador de contrasenas\n",
        "import re\n",
        "import secrets\n",
        "import string\n",
        "def generar_contrasena(longitud, nums, caracteres_especiales, mayusculas, minusculas):\n",
        "    # Define los posibles caracteres para la contraseña\n",
        "    letras = string.ascii_letters\n",
        "    digitos = string.digits\n",
        "    simbolos = string.punctuation\n",
        "\n",
        "    # Combina todos los caracteres\n",
        "    todos_los_caracteres = letras + digitos + simbolos\n",
        "\n",
        "    while True:\n",
        "        contraseña = ''\n",
        "        # Genera la contraseña\n",
        "        for _ in range(longitud):\n",
        "            contraseña += secrets.choice(todos_los_caracteres)\n",
        "\n",
        "        restricciones = [\n",
        "            (nums, r'\\d'),\n",
        "            (minusculas, r'[a-z]'),\n",
        "            (mayusculas, r'[A-Z]'),\n",
        "            (caracteres_especiales, fr'[{simbolos}]')\n",
        "        ]\n",
        "\n",
        "        # Verifica las restricciones\n",
        "        count = 0\n",
        "        for restriccion, patron in restricciones:\n",
        "            if restriccion <= len(re.findall(patron, contraseña)):\n",
        "                count += 1\n",
        "\n",
        "        if count == 4:\n",
        "            break\n",
        "\n",
        "    return contraseña\n",
        "\n",
        "nueva_contraseña = generar_contrasena(15, 3, 3, 3, 3)\n",
        "print(nueva_contraseña)"
      ],
      "metadata": {
        "colab": {
          "base_uri": "https://localhost:8080/"
        },
        "id": "eCtmo9JAhxF3",
        "outputId": "35bd3d17-4c16-4fca-c4da-d102358ab5b8"
      },
      "execution_count": 48,
      "outputs": [
        {
          "output_type": "stream",
          "name": "stdout",
          "text": [
            "]M~4+q00L}dfP=i\n"
          ]
        }
      ]
    },
    {
      "cell_type": "code",
      "source": [
        "from ctypes import string_at\n",
        "def main():\n",
        "  print(\"Bienvenidos al generador automatico de contrasenas en Google Colab y Python\\n\")\n",
        "  #longitud = input(\"Digite la longitud de su contrasena: \")\n",
        "  numeros = input(\"Digite la cantidad de numeros que desea en su contrasena: \")\n",
        "  caracteres_especiales = input(\"Digite la cantidad de caracteres especiales que desea en su contrasena: \")\n",
        "  mayusculas = input(\"Digite la cantidad de mayusculas que desea en su contrasena: \")\n",
        "  minusculas = input(\"Digite la cantidad de minusculas que desea en su contrasena: \")\n",
        "  cant_dig = int(numeros)+int(caracteres_especiales)+int(mayusculas)+int(minusculas)\n",
        "  longitud = str(cant_dig)\n",
        "  if longitud.isdigit() and numeros.isdigit() and caracteres_especiales.isdigit() and mayusculas.isdigit() and minusculas.isdigit():\n",
        "    long = int(longitud)\n",
        "    nums = int(numeros)\n",
        "    chars = int(caracteres_especiales)\n",
        "    mayus = int(mayusculas)\n",
        "    minus = int(minusculas)\n",
        "    password = generar_contrasena(long, nums, chars, mayus, minus)\n",
        "    print(f\"\\nLa nueva contrasena generada es: {password}\\n\")\n",
        "    print(f\"Utilizando {cant_dig} caracteres\")\n",
        "  else:\n",
        "    print(\"Favor de escribir numeros enteros\")\n",
        "main()"
      ],
      "metadata": {
        "colab": {
          "base_uri": "https://localhost:8080/"
        },
        "id": "R5rDLWqo28e-",
        "outputId": "412acae8-9fa7-4298-a325-e6dc6a670dae"
      },
      "execution_count": 67,
      "outputs": [
        {
          "output_type": "stream",
          "name": "stdout",
          "text": [
            "Bienvenidos al generador automatico de contrasenas en Google Colab y Python\n",
            "\n",
            "Digite la cantidad de numeros que desea en su contrasena: 5\n",
            "Digite la cantidad de caracteres especiales que desea en su contrasena: 6\n",
            "Digite la cantidad de mayusculas que desea en su contrasena: 7\n",
            "Digite la cantidad de minusculas que desea en su contrasena: 8\n",
            "\n",
            "La nueva contrasena generada es: uIr0<2ZXkJ3|%H#X8'9Iwa,sdy\n",
            "\n",
            "Utilizando 26 caracteres\n"
          ]
        }
      ]
    }
  ]
}